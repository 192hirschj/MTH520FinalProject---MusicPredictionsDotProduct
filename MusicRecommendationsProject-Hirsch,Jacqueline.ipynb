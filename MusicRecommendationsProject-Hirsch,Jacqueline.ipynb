{
 "cells": [
  {
   "cell_type": "markdown",
   "id": "1793c1f2",
   "metadata": {},
   "source": [
    "# Music Recommendations Project"
   ]
  },
  {
   "cell_type": "code",
   "execution_count": 37,
   "id": "f910cdc7",
   "metadata": {},
   "outputs": [],
   "source": [
    "import numpy as np"
   ]
  },
  {
   "cell_type": "markdown",
   "id": "34f6c650",
   "metadata": {},
   "source": [
    "# Genre Likes Matrix"
   ]
  },
  {
   "cell_type": "code",
   "execution_count": 38,
   "id": "b1dfd84b",
   "metadata": {},
   "outputs": [
    {
     "name": "stdout",
     "output_type": "stream",
     "text": [
      "This matrix states whether a user likes that genre or does not like that genre: \n",
      "0 = no, does not like that genre\n",
      "1 = yes, does like that genre\n",
      "[[1 0 0 1]\n",
      " [0 1 1 1]\n",
      " [0 1 0 1]\n",
      " [1 1 0 0]]\n"
     ]
    }
   ],
   "source": [
    "#This matrix states whether a user likes that genre or does not like that genre.\n",
    "# 0 = no, does not like that genre\n",
    "# 1 = yes, does like that genre\n",
    "\n",
    "Likes = np.matrix([[1, 0, 0, 1],\n",
    "                 [0, 1, 1, 1],\n",
    "                 [0, 1, 0, 1],\n",
    "                 [1, 1, 0, 0]])\n",
    "print(\"This matrix states whether a user likes that genre or does not like that genre: \")\n",
    "print(\"0 = no, does not like that genre\")\n",
    "print(\"1 = yes, does like that genre\")\n",
    "print(Likes)"
   ]
  },
  {
   "cell_type": "markdown",
   "id": "2794fc32",
   "metadata": {},
   "source": [
    "# Types of Songs Matrix"
   ]
  },
  {
   "cell_type": "code",
   "execution_count": 39,
   "id": "aa989532",
   "metadata": {},
   "outputs": [
    {
     "name": "stdout",
     "output_type": "stream",
     "text": [
      "This matrix states how strongly alligned a song is to a genre: \n",
      "1 = not alligned to 4 = very alligned\n",
      "[[4 3 1 1 4]\n",
      " [1 1 4 2 1]\n",
      " [1 1 1 1 1]\n",
      " [1 2 2 4 1]]\n"
     ]
    }
   ],
   "source": [
    "#This matrix states how strongly alligned a song is to a genre.\n",
    "# 1 = not alligned to 4 = very alligned\n",
    "\n",
    "Types = np.matrix([[4, 3, 1, 1, 4],\n",
    "                  [1, 1, 4, 2, 1],\n",
    "                  [1, 1, 1, 1, 1],\n",
    "                    [1, 2, 2, 4, 1]])\n",
    "\n",
    "print(\"This matrix states how strongly alligned a song is to a genre: \")\n",
    "print(\"1 = not alligned to 4 = very alligned\")\n",
    "print(Types)"
   ]
  },
  {
   "cell_type": "markdown",
   "id": "97864de6",
   "metadata": {},
   "source": [
    "# Predictions Using the Genre Likes and the Types of Songs Matrices"
   ]
  },
  {
   "cell_type": "markdown",
   "id": "c950c35f",
   "metadata": {},
   "source": [
    "Using these two matrices, I will be performing the dot product on them to predict how a user would rate the songs."
   ]
  },
  {
   "cell_type": "code",
   "execution_count": 40,
   "id": "7ad248e9",
   "metadata": {},
   "outputs": [
    {
     "name": "stdout",
     "output_type": "stream",
     "text": [
      "Predicted Ratings for Each Song on Each Person:\n",
      "[[5 5 3 5 5]\n",
      " [3 4 7 7 3]\n",
      " [2 3 6 6 2]\n",
      " [5 4 5 3 5]]\n"
     ]
    }
   ],
   "source": [
    "ratingPredictions = np.dot(Likes, Types)\n",
    "\n",
    "print(\"Predicted Ratings for Each Song on Each Person:\")\n",
    "print(ratingPredictions)"
   ]
  },
  {
   "cell_type": "markdown",
   "id": "a402d4d3",
   "metadata": {},
   "source": [
    "From doing the dot product we are able to get rankings or in other words, how strongly a user likes that particular song. From seeing how much a user likes a particular song we can start to make predictions on what genre they like which means we are getting closer to making good song recommendations to users. "
   ]
  },
  {
   "cell_type": "markdown",
   "id": "027fa3d8",
   "metadata": {},
   "source": [
    "Observations of what genres users listen to from the Dot Product:"
   ]
  },
  {
   "cell_type": "markdown",
   "id": "7191546a",
   "metadata": {},
   "source": [
    "Person A: Would be recommended songs 1, 2, and 5 <br>\n",
    "Person B: Would be recommended songs 3 and 4 <br>\n",
    "Person C: Would be recommended songs 3 and 4 <br>\n",
    "Person D: Would be recommended song 1, 3, and 5"
   ]
  },
  {
   "cell_type": "markdown",
   "id": "9bd60500",
   "metadata": {},
   "source": [
    "# Edge-Cases"
   ]
  },
  {
   "cell_type": "markdown",
   "id": "6b51c79f",
   "metadata": {},
   "source": [
    "These cases are for when the dot product algorithm does not work to give proper music suggestions."
   ]
  },
  {
   "cell_type": "markdown",
   "id": "8564a27d",
   "metadata": {},
   "source": [
    "<b>Case 1: Users like all of the genres.</b>"
   ]
  },
  {
   "cell_type": "code",
   "execution_count": 41,
   "id": "ee031560",
   "metadata": {},
   "outputs": [
    {
     "name": "stdout",
     "output_type": "stream",
     "text": [
      "This matrix states whether a user likes that genre or does not like that genre: \n",
      "0 = no, does not like that genre\n",
      "1 = yes, does like that genre\n",
      "[[1 1 1 1]\n",
      " [1 1 1 1]\n",
      " [1 1 1 1]\n",
      " [1 1 1 1]]\n",
      "Note that this matrix is an all-ones matrix. \n"
     ]
    }
   ],
   "source": [
    "#This matrix states whether a user likes that genre or does not like that genre.\n",
    "# 0 = no, does not like that genre\n",
    "# 1 = yes, does like that genre\n",
    "\n",
    "LikesAll = np.matrix([[1, 1, 1, 1],\n",
    "                 [1, 1, 1, 1],\n",
    "                 [1, 1, 1, 1],\n",
    "                 [1, 1, 1, 1]])\n",
    "print(\"This matrix states whether a user likes that genre or does not like that genre: \")\n",
    "print(\"0 = no, does not like that genre\")\n",
    "print(\"1 = yes, does like that genre\")\n",
    "print(LikesAll)\n",
    "print(\"Note that this matrix is an all-ones matrix. \")"
   ]
  },
  {
   "cell_type": "markdown",
   "id": "3ec1af2d",
   "metadata": {},
   "source": [
    "This matrix shows that all of the users love all the genres of music that the users have available to them to listen to."
   ]
  },
  {
   "cell_type": "markdown",
   "id": "ff23a3ec",
   "metadata": {},
   "source": [
    "For the types of song matrix, we will use the same one as used above."
   ]
  },
  {
   "cell_type": "code",
   "execution_count": 42,
   "id": "dda35f8e",
   "metadata": {},
   "outputs": [
    {
     "name": "stdout",
     "output_type": "stream",
     "text": [
      "This matrix states how strongly alligned a song is to a genre: \n",
      "1 = not alligned to 4 = very alligned\n",
      "[[4 3 1 1 4]\n",
      " [1 1 4 2 1]\n",
      " [1 1 1 1 1]\n",
      " [1 2 2 4 1]]\n"
     ]
    }
   ],
   "source": [
    "#This matrix states how strongly alligned a song is to a genre.\n",
    "# 1 = not alligned to 4 = very alligned\n",
    "\n",
    "Types = np.matrix([[4, 3, 1, 1, 4],\n",
    "                  [1, 1, 4, 2, 1],\n",
    "                  [1, 1, 1, 1, 1],\n",
    "                    [1, 2, 2, 4, 1]])\n",
    "\n",
    "print(\"This matrix states how strongly alligned a song is to a genre: \")\n",
    "print(\"1 = not alligned to 4 = very alligned\")\n",
    "print(Types)"
   ]
  },
  {
   "cell_type": "markdown",
   "id": "fb0e3bdd",
   "metadata": {},
   "source": [
    "Recommendations Using the Dot Product:"
   ]
  },
  {
   "cell_type": "code",
   "execution_count": 43,
   "id": "d0616695",
   "metadata": {},
   "outputs": [
    {
     "name": "stdout",
     "output_type": "stream",
     "text": [
      "Predicted Ratings for Each Song on Each Person:\n",
      "[[7 7 8 8 7]\n",
      " [7 7 8 8 7]\n",
      " [7 7 8 8 7]\n",
      " [7 7 8 8 7]]\n"
     ]
    }
   ],
   "source": [
    "ratingPredictions = np.dot(LikesAll, Types)\n",
    "\n",
    "print(\"Predicted Ratings for Each Song on Each Person:\")\n",
    "print(ratingPredictions)"
   ]
  },
  {
   "cell_type": "markdown",
   "id": "2670ef0a",
   "metadata": {},
   "source": [
    "As you can see from this matrix above, the dot product cannot give proper suggestions if all of the users like all of the available music genres available to them. "
   ]
  },
  {
   "cell_type": "markdown",
   "id": "1693f2c3",
   "metadata": {},
   "source": [
    "<b>Case 2: Users like none of the genres.</b>"
   ]
  },
  {
   "cell_type": "code",
   "execution_count": 44,
   "id": "c2a62406",
   "metadata": {},
   "outputs": [
    {
     "name": "stdout",
     "output_type": "stream",
     "text": [
      "This matrix states whether a user likes that genre or does not like that genre: \n",
      "0 = no, does not like that genre\n",
      "1 = yes, does like that genre\n",
      "[[0 0 0 0]\n",
      " [0 0 0 0]\n",
      " [0 0 0 0]\n",
      " [0 0 0 0]]\n",
      "Note that this is an all-zero matrix.\n"
     ]
    }
   ],
   "source": [
    "#This matrix states whether a user likes that genre or does not like that genre.\n",
    "# 0 = no, does not like that genre\n",
    "# 1 = yes, does like that genre\n",
    "\n",
    "LikesNone = np.matrix([[0, 0, 0, 0],\n",
    "                 [0, 0, 0, 0],\n",
    "                 [0, 0, 0, 0],\n",
    "                 [0, 0, 0, 0]])\n",
    "print(\"This matrix states whether a user likes that genre or does not like that genre: \")\n",
    "print(\"0 = no, does not like that genre\")\n",
    "print(\"1 = yes, does like that genre\")\n",
    "print(LikesNone)\n",
    "print(\"Note that this is an all-zero matrix.\")"
   ]
  },
  {
   "cell_type": "markdown",
   "id": "687902c0",
   "metadata": {},
   "source": [
    "This matrix shows that all of the users do not like any of the genres of music that the users have available to them to listen to."
   ]
  },
  {
   "cell_type": "markdown",
   "id": "6cc53ec4",
   "metadata": {},
   "source": [
    "For the types of song matrix, we will use the same one as used above."
   ]
  },
  {
   "cell_type": "code",
   "execution_count": 45,
   "id": "f0e528c6",
   "metadata": {},
   "outputs": [
    {
     "name": "stdout",
     "output_type": "stream",
     "text": [
      "This matrix states how strongly alligned a song is to a genre: \n",
      "1 = not alligned to 4 = very alligned\n",
      "[[4 3 1 1 4]\n",
      " [1 1 4 2 1]\n",
      " [1 1 1 1 1]\n",
      " [1 2 2 4 1]]\n"
     ]
    }
   ],
   "source": [
    "#This matrix states how strongly alligned a song is to a genre.\n",
    "# 1 = not alligned to 4 = very alligned\n",
    "\n",
    "Types = np.matrix([[4, 3, 1, 1, 4],\n",
    "                  [1, 1, 4, 2, 1],\n",
    "                  [1, 1, 1, 1, 1],\n",
    "                    [1, 2, 2, 4, 1]])\n",
    "\n",
    "print(\"This matrix states how strongly alligned a song is to a genre: \")\n",
    "print(\"1 = not alligned to 4 = very alligned\")\n",
    "print(Types)"
   ]
  },
  {
   "cell_type": "markdown",
   "id": "3e80c30f",
   "metadata": {},
   "source": [
    "Recommendations Using the Dot Product:"
   ]
  },
  {
   "cell_type": "code",
   "execution_count": 46,
   "id": "8cc96ec7",
   "metadata": {},
   "outputs": [
    {
     "name": "stdout",
     "output_type": "stream",
     "text": [
      "Predicted Ratings for Each Song on Each Person:\n",
      "[[0 0 0 0 0]\n",
      " [0 0 0 0 0]\n",
      " [0 0 0 0 0]\n",
      " [0 0 0 0 0]]\n"
     ]
    }
   ],
   "source": [
    "ratingPredictions = np.dot(LikesNone, Types)\n",
    "\n",
    "print(\"Predicted Ratings for Each Song on Each Person:\")\n",
    "print(ratingPredictions)"
   ]
  },
  {
   "cell_type": "markdown",
   "id": "ebf26a3a",
   "metadata": {},
   "source": [
    "As you can see from this matrix above, the dot product cannot give proper suggestions if all of the users do not like any of the available music genres available to them. "
   ]
  },
  {
   "cell_type": "markdown",
   "id": "bfde9364",
   "metadata": {},
   "source": [
    "# When does the dot product work best?"
   ]
  },
  {
   "cell_type": "markdown",
   "id": "868a7a6e",
   "metadata": {},
   "source": [
    "<b>Case 1: Each song only alligns to one song.</b> <br>\n",
    "In this case, each song will only be alligned to one genre in the Genre Likes Matrix."
   ]
  },
  {
   "cell_type": "code",
   "execution_count": 47,
   "id": "f6d88d33",
   "metadata": {},
   "outputs": [
    {
     "name": "stdout",
     "output_type": "stream",
     "text": [
      "This matrix states how strongly alligned a song is to a genre: \n",
      "1 = not alligned to 4 = very alligned\n",
      "[[4 1 1 1 4]\n",
      " [1 4 1 1 1]\n",
      " [1 1 4 1 1]\n",
      " [1 1 1 4 1]]\n"
     ]
    }
   ],
   "source": [
    "#This matrix states how strongly alligned a song is to a genre.\n",
    "# 1 = not alligned to 4 = very alligned\n",
    "\n",
    "TypesOneGenre = np.matrix([[4, 1, 1, 1, 4],\n",
    "                  [1, 4, 1, 1, 1],\n",
    "                  [1, 1, 4, 1, 1],\n",
    "                    [1, 1, 1, 4, 1]])\n",
    "\n",
    "print(\"This matrix states how strongly alligned a song is to a genre: \")\n",
    "print(\"1 = not alligned to 4 = very alligned\")\n",
    "print(TypesOneGenre)"
   ]
  },
  {
   "cell_type": "markdown",
   "id": "fc41afeb",
   "metadata": {},
   "source": [
    "In the next matrix, Genre Likes Matrix, we will keep this matrix the same as above."
   ]
  },
  {
   "cell_type": "code",
   "execution_count": 48,
   "id": "bd03dd54",
   "metadata": {},
   "outputs": [
    {
     "name": "stdout",
     "output_type": "stream",
     "text": [
      "This matrix states whether a user likes that genre or does not like that genre: \n",
      "0 = no, does not like that genre\n",
      "1 = yes, does like that genre\n",
      "[[1 0 0 1]\n",
      " [0 1 1 1]\n",
      " [0 1 0 1]\n",
      " [1 1 0 0]]\n"
     ]
    }
   ],
   "source": [
    "#This matrix states whether a user likes that genre or does not like that genre.\n",
    "# 0 = no, does not like that genre\n",
    "# 1 = yes, does like that genre\n",
    "\n",
    "Likes = np.matrix([[1, 0, 0, 1],\n",
    "                 [0, 1, 1, 1],\n",
    "                 [0, 1, 0, 1],\n",
    "                 [1, 1, 0, 0]])\n",
    "print(\"This matrix states whether a user likes that genre or does not like that genre: \")\n",
    "print(\"0 = no, does not like that genre\")\n",
    "print(\"1 = yes, does like that genre\")\n",
    "print(Likes)"
   ]
  },
  {
   "cell_type": "markdown",
   "id": "395e4a1b",
   "metadata": {},
   "source": [
    "From this matrix we know: <br>\n",
    "Person A: likes country and rock <br>\n",
    "Person B: likes hip-hop, rap, and rock <br>\n",
    "Person C: likes hip-hop and rock <br>\n",
    "Person D: likes country and hip-hop"
   ]
  },
  {
   "cell_type": "markdown",
   "id": "352732aa",
   "metadata": {},
   "source": [
    "Recommendations Using the Dot Product:"
   ]
  },
  {
   "cell_type": "code",
   "execution_count": 49,
   "id": "4145a043",
   "metadata": {},
   "outputs": [
    {
     "name": "stdout",
     "output_type": "stream",
     "text": [
      "Predicted Ratings for Each Song on Each Person:\n",
      "[[5 2 2 5 5]\n",
      " [3 6 6 6 3]\n",
      " [2 5 2 5 2]\n",
      " [5 5 2 2 5]]\n"
     ]
    }
   ],
   "source": [
    "ratingPredictions = np.dot(Likes, TypesOneGenre)\n",
    "\n",
    "print(\"Predicted Ratings for Each Song on Each Person:\")\n",
    "print(ratingPredictions)"
   ]
  },
  {
   "cell_type": "markdown",
   "id": "c08d554a",
   "metadata": {},
   "source": [
    "From this matrix, we can confirm that the song rating predictions do allign to what genres the users like to listen to."
   ]
  },
  {
   "cell_type": "markdown",
   "id": "d0860bc4",
   "metadata": {},
   "source": [
    "<b>Case 2: Each person only listens to one genre.</b> <br>\n",
    "In this case, each person will only be assigned to one genre in the Genre Likes Matrix."
   ]
  },
  {
   "cell_type": "code",
   "execution_count": 50,
   "id": "2e117058",
   "metadata": {},
   "outputs": [
    {
     "name": "stdout",
     "output_type": "stream",
     "text": [
      "This matrix states whether a user likes that genre or does not like that genre: \n",
      "0 = no, does not like that genre\n",
      "1 = yes, does like that genre\n",
      "[[1 0 0 0]\n",
      " [0 1 0 0]\n",
      " [0 0 1 0]\n",
      " [0 0 0 1]]\n"
     ]
    }
   ],
   "source": [
    "#This matrix states whether a user likes that genre or does not like that genre.\n",
    "# 0 = no, does not like that genre\n",
    "# 1 = yes, does like that genre\n",
    "\n",
    "LikesOnlyOne = np.matrix([[1, 0, 0, 0],\n",
    "                 [0, 1, 0, 0],\n",
    "                 [0, 0, 1, 0],\n",
    "                 [0, 0, 0, 1]])\n",
    "print(\"This matrix states whether a user likes that genre or does not like that genre: \")\n",
    "print(\"0 = no, does not like that genre\")\n",
    "print(\"1 = yes, does like that genre\")\n",
    "print(LikesOnlyOne)"
   ]
  },
  {
   "cell_type": "markdown",
   "id": "ff2f623c",
   "metadata": {},
   "source": [
    "Note: This is the identity matrix, which makes this case of users only like one type of song as you will see in the end of this case."
   ]
  },
  {
   "cell_type": "markdown",
   "id": "476638f5",
   "metadata": {},
   "source": [
    "In the next matrix, Types of Songs Matrix, we will keep this matrix the same as above."
   ]
  },
  {
   "cell_type": "code",
   "execution_count": 51,
   "id": "d0c11064",
   "metadata": {},
   "outputs": [
    {
     "name": "stdout",
     "output_type": "stream",
     "text": [
      "This matrix states how strongly alligned a song is to a genre: \n",
      "1 = not alligned to 4 = very alligned\n",
      "[[4 3 1 1 4]\n",
      " [1 1 4 2 1]\n",
      " [1 1 1 1 1]\n",
      " [1 2 2 4 1]]\n"
     ]
    }
   ],
   "source": [
    "#This matrix states how strongly alligned a song is to a genre.\n",
    "# 1 = not alligned to 4 = very alligned\n",
    "\n",
    "Types = np.matrix([[4, 3, 1, 1, 4],\n",
    "                  [1, 1, 4, 2, 1],\n",
    "                  [1, 1, 1, 1, 1],\n",
    "                    [1, 2, 2, 4, 1]])\n",
    "\n",
    "print(\"This matrix states how strongly alligned a song is to a genre: \")\n",
    "print(\"1 = not alligned to 4 = very alligned\")\n",
    "print(Types)"
   ]
  },
  {
   "cell_type": "markdown",
   "id": "a1c0ee00",
   "metadata": {},
   "source": [
    "Recommendations Using the Dot Product:"
   ]
  },
  {
   "cell_type": "code",
   "execution_count": 52,
   "id": "ed181c1d",
   "metadata": {},
   "outputs": [
    {
     "name": "stdout",
     "output_type": "stream",
     "text": [
      "Predicted Ratings for Each Song on Each Person:\n",
      "[[4 3 1 1 4]\n",
      " [1 1 4 2 1]\n",
      " [1 1 1 1 1]\n",
      " [1 2 2 4 1]]\n"
     ]
    }
   ],
   "source": [
    "ratingPredictions = np.dot(LikesOnlyOne, Types)\n",
    "\n",
    "print(\"Predicted Ratings for Each Song on Each Person:\")\n",
    "print(ratingPredictions)"
   ]
  },
  {
   "cell_type": "markdown",
   "id": "38208913",
   "metadata": {},
   "source": [
    "As you can see above, since the identity matrix is used the predictions are going to be identitical to the Types of Songs Matrix. This means that each person will be recommended the song that most strongly correlates to the only genre they listen to. "
   ]
  },
  {
   "cell_type": "markdown",
   "id": "e7c50f0d",
   "metadata": {},
   "source": [
    "Example: For Person A, they would be strongly recommended Songs one and five because they are fully country whereas song two would also be recommended but slightly less."
   ]
  },
  {
   "cell_type": "code",
   "execution_count": null,
   "id": "ccc6591b",
   "metadata": {},
   "outputs": [],
   "source": []
  }
 ],
 "metadata": {
  "kernelspec": {
   "display_name": "Python 3 (ipykernel)",
   "language": "python",
   "name": "python3"
  },
  "language_info": {
   "codemirror_mode": {
    "name": "ipython",
    "version": 3
   },
   "file_extension": ".py",
   "mimetype": "text/x-python",
   "name": "python",
   "nbconvert_exporter": "python",
   "pygments_lexer": "ipython3",
   "version": "3.9.7"
  }
 },
 "nbformat": 4,
 "nbformat_minor": 5
}
